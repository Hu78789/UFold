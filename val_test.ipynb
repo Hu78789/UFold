{
 "cells": [
  {
   "cell_type": "code",
   "execution_count": 4,
   "metadata": {},
   "outputs": [],
   "source": [
    "import torch"
   ]
  },
  {
   "cell_type": "code",
   "execution_count": null,
   "metadata": {},
   "outputs": [],
   "source": []
  },
  {
   "cell_type": "code",
   "execution_count": 5,
   "metadata": {},
   "outputs": [
    {
     "name": "stderr",
     "output_type": "stream",
     "text": [
      "C:\\Users\\lenovo\\AppData\\Local\\Temp\\ipykernel_22456\\3453045343.py:1: FutureWarning: You are using `torch.load` with `weights_only=False` (the current default value), which uses the default pickle module implicitly. It is possible to construct malicious pickle data which will execute arbitrary code during unpickling (See https://github.com/pytorch/pytorch/blob/main/SECURITY.md#untrusted-models for more details). In a future release, the default value for `weights_only` will be flipped to `True`. This limits the functions that could be executed during unpickling. Arbitrary objects will no longer be allowed to be loaded via this mode unless they are explicitly allowlisted by the user via `torch.serialization.add_safe_globals`. We recommend you start setting `weights_only=True` for any use case where you don't have full control of the loaded file. Please open an issue on GitHub for any issues related to this experimental feature.\n",
      "  model = torch.load('TrainSetAB.pth')\n"
     ]
    }
   ],
   "source": [
    "model = torch.load('TrainSetAB.pth')"
   ]
  },
  {
   "cell_type": "code",
   "execution_count": 8,
   "metadata": {},
   "outputs": [
    {
     "name": "stdout",
     "output_type": "stream",
     "text": [
      "Looking in indexes: https://pypi.tuna.tsinghua.edu.cn/simple\n",
      "Processing g:\\文献阅读项目\\ufold\\data\\mxfold2-0.1.2.tar.gz\n"
     ]
    },
    {
     "name": "stderr",
     "output_type": "stream",
     "text": [
      "WARNING: Requirement 'mxfold2-0.1.2.tar.gz' looks like a filename, but the file does not exist\n",
      "ERROR: Could not install packages due to an OSError: [Errno 2] No such file or directory: 'G:\\\\文献阅读项目\\\\UFold\\\\data\\\\mxfold2-0.1.2.tar.gz'\n",
      "\n"
     ]
    }
   ],
   "source": [
    "!pip3 install mxfold2-0.1.2.tar.gz"
   ]
  },
  {
   "cell_type": "code",
   "execution_count": 12,
   "metadata": {},
   "outputs": [
    {
     "name": "stdout",
     "output_type": "stream",
     "text": [
      "Looking in indexes: https://pypi.tuna.tsinghua.edu.cn/simpleNote: you may need to restart the kernel to use updated packages.\n",
      "\n"
     ]
    },
    {
     "name": "stderr",
     "output_type": "stream",
     "text": [
      "ERROR: Could not find a version that satisfies the requirement rhofold (from versions: none)\n",
      "ERROR: No matching distribution found for rhofold\n"
     ]
    }
   ],
   "source": [
    "%pip install rhofold"
   ]
  },
  {
   "cell_type": "code",
   "execution_count": 1,
   "metadata": {},
   "outputs": [],
   "source": [
    "import pandas as pd\n",
    "import numpy as np\n",
    "\n",
    "# 读取一维CSV数据\n",
    "def read_csv_data(file_path):\n",
    "    data = pd.read_csv(file_path, header=None)\n",
    "    return data.values.flatten()\n",
    "\n",
    "# 假设这里需要将一维数据转换为二维矩阵\n",
    "def convert_to_2d(data, seq_len):\n",
    "    # 这里只是简单示例，实际转换逻辑需根据具体需求调整\n",
    "    return np.reshape(data[:seq_len * seq_len], (seq_len, seq_len))\n",
    "\n",
    "# 示例使用\n",
    "csv_file_path = \"./data/NPInter2.csv\"\n",
    "one_d_data = read_csv_data(csv_file_path)\n",
    "seq_len = int(np.sqrt(len(one_d_data)))  # 假设数据长度是平方数\n",
    "two_d_data = convert_to_2d(one_d_data, seq_len)\n",
    "\n",
    "# 后续可以将two_d_data传递给模型进行预测"
   ]
  },
  {
   "cell_type": "code",
   "execution_count": null,
   "metadata": {},
   "outputs": [
    {
     "data": {
      "text/plain": [
       "array([['Type', 'Y', 'RNA_list', ..., 'n199030',\n",
       "        'AACAUGCUUCCUUAGAUCCACCUUUGUGGAUGAAUCUUGAACUGAGUUCCACUUGUAAACUUCUUGUUUCUUGUGGUUCCAGUAGUCAAAGAAACAUCCAGCAACUUUUUUGGUUGUAUAGUCAAAGGUGCUUGAGUCAUUGGCAUGUAAGAGAAAUAUACCUGCAUGUUAGUCUAACGUUCUGAUAGAAAUGACAUGCAUUUAUGCUGCCAUUUGUUACUAUCAGGACUCGACUCGUGUGCGGACAUUU',\n",
       "        'MRELEAKATKDVERNLSRDLVQEEEQLMEEKKKKKDDKKKKEAAQKKATEQKIKVPEQIKPSVSQPQPANSNNGTSTATSTNNNAKRATANNQQPQQQQQQQQPQQQQPQQQPQPQPQQQQPQQQPQALPRYPREVPPRFRHQEHKQLLKRGQHFPVIAANLGSAVKVLNSQSESSALTNQQPQNNGEVQNSKNQSDINHSTSGSHYENSQRGPVSSTSDSSTNCKNAVVSDLSEKEAWPSAPGSDPELASECMDADSASSSESERNITIMASGNTGGEKDGLRNSTGLGSQNKFVVGSSSNNVGHGSSTGPWGFSHGAIISTCQVSVDAPESKSESSNNRMNAWGTVSSSSNGGLNPSTLNSASNHGAWPVLENNGLALKGPVGSGSSGINIQCSTIGQMPNNQSINSKVSGGSTHGTWGSLQETCESEVSGTQKVSFSGQPQNITTEMTGPNNTTNFMTSSLPNSGSVQNNELPSSNTGAWRVSTMNHPQMQAPSGMNGTSLSHLSNGESKSGGSYGTTWGAYGSNYSGDKCSGPNGQANGDTVNATLMQPGVNGPMGTNFQVNTNKGGGVWESGAANSQSTSWGSGNGANSGGSRRGWGTPAQNTGTNLPSVEWNKLPSNQHSNDSANGNGKTFTNGWKSTEEEDQGSATSQTNEQSSVWAKTGGTVESDGSTESTGRLEEKGTGESQSRDRRKIDQHTLLQSIVNRTDLDPRVLSNSGWGQTPIKQNTAWDTETSPRGERKTDNGTEAWGSSATQTFNSGACIDKTSPNGNDTSSVSGWGDPKPALRWGDSKGSNCQGGWEDDSAATGMVKSNQWGNCKEEKAAWNDSQKNKQGWGDGQKSSQGWSVSASDNWGETSRNNHWGEANKKSSSGGSDSDRSVSGWNELGKTSSFTWGNNINPNNSSGWDESSKPTPSQGWGDPPKSNQSLGWGDSSKPVSSPDWNKQQDIVGSWGIPPATGKPPGTGWLGGPIPAPAKEEEPTGWEEPSPESIRRKMEIDDGTSAWGDPSKYNYKNVNMWNKNVPNGNSRSDQQAQVHQLLTPASAISNKEASSGSGWGEPWGEPSTPATTVDNGTSAWGKPIDSGPSWGEPIAAASSTSTWGSSSVGPQALSKSGPKSMQDGWCGDDMPLPGNRPTGWEEEEDVEIGMWNSNSSQELNSSLNWPPYTKKMSSKGLSGKKRRRERGMMKGGNKQEEAWINPFVKQFSNISFSRDSPEENVQSNKMDLSGGMLQDKRMEIDKHSLNIGDYNRTVGKGPGSRPQISKESSMERNPYFDKDGIVADESQNMQFMSSQSMKLPPSNSALPNQALGSIAGLGMQNLNSVRQNGNPSMFGVGNTAAQPRGMQQPPAQPLSSSQPNLRAQVPPPLLSPQVPVSLLKYAPNNGGLNPLFGPQQVAMLNQLSQLNQLSQISQLQRLLAQQQRAQSQRSVPSGNRPQQDQQGRPLSVQQQMMQQSRQLDPNLLVKQQTPPSQQQPLHQPAMKSFLDNVMPHTTPELQKGPSPINAFSNFPIGLNSNLNVNMDMNSIKEPQSRLRKWTTVDSISVNTSLDQNSSKHGAISSGFRLEESPFVPYDFMNSSTSPASPPGSIGDGWPRAKSPNGSSSVNWPPEFRPGEPWKGYPNIDPETDPYVTPGSVINNLSINTVREVDHLRDRNSGSSSSLNTTLPSTSAWSSIRASNYNVPLSSTAQSTSARNSDSKLTWSPGSVTNTSLAHELWKVPLPPKNITAPSRPPPGLTGQKPPLSTWDNSPLRIGGGWGNSDARYTPGSSWGESSSGRITNWLVLKNLTPQIDGSTLRTLCMQHGPLITFHLNLPHGNALVRYSSKEEVVKAQKSLHMCVLGNTTILAEFASEEEISRFFAQSQSLTPSPGWQSLGSSQSRLGSLDCSHSFSSRTDLNHWNGAGLSGTNCGDLHGTSLWGTPHYSTSLWGPPSSSDPRGISSPSPINAFLSVDHLGGGGESM'],\n",
       "       ['Q8NDV7', 'Undirected', '1', ..., '1', 'n264321',\n",
       "        'GAUCGCCAUGAUGGGGAAGAAGGAAGAGGAGACCUAAAGGCCAGCUGACAUGUGAGAAUCAGGGAAAGUGGCCACACGGGCCACUUCCACAGCUGUGUUUGAGCAGGACUUUGGGUCCCUAACCUGCAACUCAGCACUCAGUCCAUCAUGGGCUUUGCUAGUCUCUGUGACUUCUCCAGGGCAGGAAAGUGACAGGUUUCUGCGCAAGGGAGCCCGAGGUACCUGGUUCAGGAUGGAGAGGGCACUUGAGAGGCGUCAAAAGCAAGCACAGUUAGAGGACAUCAGCGAUGUUAAAACCCCACGAGGGUCAACAGUAGCCCAGGCAAAAUAAAGGAGCCUGAAGUGGAAAAACAGAAAUGGAACAAGACGUUUGUUCUGGAGCACGUGAGAUUGUCCUUCUAAGACAUUUCCAGAAGUAUUCAAAGGAAGAUUUAAUGGGAAAUCAUUAUGCAAAAGAGUCAGUAAUAUAUUUUAGUUUCAAAAAGUACGGAGCGUGACGCCUGUCAAUUAUACCUUCUGCAAAGGUGAGUGGCGGUUGUCCUUGCUGUUCCAAAAUGCAAAGAGAAACAAACAAACAAACAAACAAGCAAACCAGCUACUCCUAUUCCGCACUCCAAACACCAAGCAGAAAUGCUUCUGGGACAAACUGAGCUUCAUUCUUUAUGAAAAUGAAAACACUUCUUUCUGUGCACUAGGAAAAUGUUCUGCCUCUGAGCUGCAAAACCAGCACCAAACUUGAAAAGUUUGUGCAUCAAAGGAAAAAGGCAACCUACAGGAUGGGGGAGAAUAUUUGCAGGACACAUGUCCUGGAAGGAAUACAUAUUUAGACUGAAUAAAAUGAGUAAGAGGAGGGAUAGGGAGUUCGUGUUCAAUGUUGAGAGCUUGGGACAGUUGAGAAAACGCUCCGGAGUGUUCUGCAGAUGAAUGAUGGUGACGACUGCAUCAGUGUGAAUGUCCUUAACGCCGUCAAAAAUUGGUUAUAAUGGCAAAUUUUAUGCUACAUAUGUUUUACUACAAUAAAAAUGCCAGGAAAAUCUAACUGCUCCAAAUCCUGAAUUUAUUAACCCAAUAAAUUAGGAGAUGGUUAUUGACCUAUAAAUGGAUUUGUCAAUUUUUAAAAUGAUUUCCUUUAAAUUGAAUUCUUUCCUAGAGCUUUAUUGUCUCUUCACAAACCAUUAAACACUUGUUAAAGUGUUCAGAGAGGGCUGAGAUGGAGGAGGAAGUGAAAACCAAACAAACAGAUGAGGGACCUUCCCCAAAUGAUGUCUGCUAACAGGCUUCUUGGGUAUUCUAUUUAUAUAGAUUUUACAAGUGUUUUAUUUGAGAGGAAAAAUCCCUAGACCUUACAUAGUACAAUGAACUUCUUAUGCCUGUCAGCUAGAUUUAUUAAUUUUUAACGAGGUGUAUUACUUUUAAAAGCUAUCUAUUUACUAUUGGGGGAGGGAGAAGGACAAAGGACAUCUUGCAGAAGUCUGGUCUCUCCUGCUAUGUGGGUUCUGGAGAUAGGAAAUCAGGCAGGUUGUCAGGCCUAGAAGCAAAGGCCUGUCUGCACUGAGCCAUCUUACUUGUCUUAUUUUGUUACUUUUGAUGACCUAUUUUAGACAUCACUAUUCUAUAGCCCUAAGUAUAACUUCAAGUAUGUAUCUUCCACAAUGACUUUAUGACCAUGAAAUCAAUUCAAGAAAUUUAACAUGUAUGCAGUUCUAUCCAGCGUACAUACAGAUUUCUCAUCCCCCCUUUUACUGUAGUUUAUAGAAAAAGCAAUUCUCUUCCAUAUCUAGAGUUUGACAAGGAAUAUGCAUUGCAUUUGGUUUCUGUGUUCUUUAAUCUCUUGUUGUACAGAACUUCAACCUUUCAUGACAGGUUGAACAAUUUUGGAUCAUACAGGCUGUCAUGGUUUGAAUAUGUUUGGCCCAGGGAGUGGUACUGUUAGGGGUGUGGUCUUCUUGGAAUAGGUGUGUCACCGUGGGCGUGGGCUUUAAGACCCUCAUCCUUAGCUUCUGGAAGUCAGUCUUCCACUAGCAACCUUCAGAUGAAGAUGUAGAACUCUCACCAUCUCCUGCACUAUACCUGCCUGGAUAUCGCCAUGUUCCUGCCUUGAUGAUUAUGGACUGAACCUCUGAACCUGUAAGCCAGCCCCAAUUAAAUUUGUCCUUAUAGG'],\n",
       "       ['MGKKQNKKKVEEVLEEEEEEYVVEKVLDRRVVKGKVEYLLKWKGFSDEDNTWEPEENLDCPDLIAEFLQSQKTAHETDKSEGGKRKADSDSEDKGEESKPKKKKEESEKPRGFARGLEPERIIGATDSSGELMFLMKW',\n",
       "        'Q7TPM0', 'Undirected', ..., 'Undirected', '1', 'n265930'],\n",
       "       ...,\n",
       "       ['MARPIDVSQLIAGINKKKGLDENTSGKISKPRFLNKQERSKQERLKENEESLTPTQSDSAKVEIKKVNSRDDSFFNETNDKKRNPSKQNGSKFHFSWNESEDTLSGYDPIVSTRAIDLLWKGKTPKNAAESSYMGKHWTEKSLHEMNERDWRILKEDYAIVTKGGTVENPLRNWEELNIIPRDLLRVIIQELRFPSPTPIQRITIPNVCNMKQYRDFLGVASTGSGKTLAFVIPILIKMSRSPPRPPSLKIIDGPKALILAPTRELVQQIQKETQKVTKIWSKESNYDCKVISIVGGHSLEEISFSLSEGCDILVATPGRLIDSLENHLLVMKQVETLVLDEADKMIDLGFEDQVTNILTKVDINADSAVNRQTLMFTATMTPVIEKIAAGYMQKPVYATIGVETGSEPLIQQVVEYADNDEDKFKKLKPIVAKYDPPIIIFINYKQTADWLAEKFQKETNMKVTILHGSKSQEQREHSLQLFRTNKVQIMIATNVAARGLDIPNVSLVVNFQISKKMDDYIHRIGRTGRAANEGTAVSFVSAAEDESLIRELYKYVRKHDPLNSNIFSEAVKNKYNVGKQLSNEIIY',\n",
       "        'P23394', 'Undirected', ..., 'Undirected', '0', 'n378782'],\n",
       "       ['AGCUCGGCGGGGUGCGGCUAGUGGCGGAGCGCGCUGCGAGGGGAGGGCUUUCCACUGUCGCUGGCGUGAACUCGCGUGCCCGGUGGGUAUCAGGGAAGAACCCCCGCCCCGGACCCCCAGAUCUGCCAUGGCCGAGGUAGCGAUCGUCUCUGCGGCCACGAAGACUGUUUUAACUUGUACCACUUUCCCUUCCAUUUUUCCUGGGGUGCCUCUCACCCUGCAUCUGCGCGUUCAGCAAGCUGGAUUUCGGGAAUGCUCAGUUCAGAAGAGAAAAAAUUGCCGGGAAUCAAGUCCUUCUUUUUGUUAGUCGGUAGUCGAUUGAUGGGAAGUGUUCAAAAUCAUUCGAUGUGGUGACAAGGCUUCACCAGGUACUGCCUUCUAACGAGCUGGCCAUUUCCACAUGUCAGAUAGGACCAACUUGCCUUUUAACUACCCGUGUGAUACUUAAACACUGUUGCCGGUAUCACAGCUUUUCUUCAAAACAGGUAAUAUUAGGGACACUUGAAAUUUGGGAAUUAGAUUUACCUUUGCUGUUACUAAAUAAUUGUUAGAAUUUUAAAUGUCAUAUUCAUUUUACUCAACUAAUCUCUUUAGCUUUCCUAUUUAUAUUCCUACUUAUGAUUACGUGUAAUUCUCAUUGGAAGGAUUAAAAUAUUUUGAAAGUAAGACAGUAAAAUUGUGAAAUACUUUGGUAUUGGUUACAAAACAGUACUUAGGUACCUUCUUCCUGAUUUUUCUGUAUUUUUAAAAAAUAAGGCCAGGCACAGUGGCAAAUGCUUAUAUUCCCAACUGCCCAGUAAGCUGAAGCAAGAGAAUUGCUUGAGCCCAACCUGGGCAACAUAGUGAAACCCCAGUCACCAAUUAAAAACAAACAAACAAAAAGAGUAUAUUUUUUGAAGAUA',\n",
       "        'MSFLSKLSQIRKSTTASKAQVQDPLPKKNDEEYSLLPKNYIRDEDPAVKRLKELRRQELLKNGALAKKSGVKRKRGTSSGSEKKKIERNDDDEGGLGIRFKRSIGASHAPLKPVVRKKPEPIKKMSFEELMKQAENNEKQPPKVKSSEPVTKERPHFNKPGFKSSKRPQKKASPGATLRGVSSGGNSIKSSDSPKPVKLNLPTNGFAQPNRRLKEKLESRKQKSRYQDDYDEEDNDMDDFIEDDEDEGYHSKSKHSNGPGYDRDEIWAMFNRGKKRSEYDYDELEDDDMEANEMEILEEEEMARKMARLEDKREEAWLKKHEEEKRRRKKGIR',\n",
       "        'P06843', ..., 'Q07955', 'Undirected', '0'],\n",
       "       ['n385210',\n",
       "        'GGCUGCCUGAAGCUAGUGAGUCGCGGCGCCGCGCACUUGUGGUUGGGUCAGUGCCGCGCGCCGCUCGGUCGUUACCGCGAGGCGCUGGUGGCCUUCAGGCUGGACGGCGCGGGUCAGCCCUGGUUUGCCGGCUUCUGGGUCUUUGAACAGCCGCGAUGUCGAUCUUCACCCCCACCAACCAGAUCCGCCUAACCAAUGUGGCCGUGGUACGGAUGAAGCGCGCCAGGAAGCGCUUCGAAAUCGCCUGCUACAGAAACAAGGUCGUCGGCUGGCGGAGCGGCUUGUGAGUAGCCCCCUCCCUCGGGCCUGGGCCUGGGCCUGAGCCGUCACCUCCGAGGCGGCCUGUCUCUGCCCAAGUCGAGUGAAUGGGCCAGGCUGGGGUGUUUGUUGGCCCGGGAGGAAAUGGAACAUUCCUGCUGUGAGCAUGAGACGUCGCUGUCCGAGCUUGGCGCCUAAGCCAAGGGUUUCUUUAUUUGGGAAAAAGACCUUGAUGAAGUUCUGCAGACCCACUCAGUGUUUGUAAAUGUUUCCUAAGGUCAGGUUGCCAAGAAGGAAGAUCUCAUCAGUGCGUUUGGAACAGAUGACCAAACUGAAAUCUAUUUUGACUAAAGGAGAAGUUCAAGUAUCAGAUAAAGACACACACAACUGGAGCAGAUGUUUAGGGACAUUGCAAUUAUUGUGGCAGACAAAUGUGUGACUCCUGAAACAAAGAGACCAUACACCGUGAUCCUUAUUGAGAGAGCCAUGAAGGACAUCCACUAUUUGGUGAAAACCAACAGGAGUACAAAACAGCAGGCUUUGGAAGUGAUAAAGCAGUUAAAAGAGAAAAUGAAGAUAGAACGUGCUCACAUGAGGCUUCAGUUCAUCCUUCCAGUGAAUGAAGGCAAGAAGCUGAAAGAAAAGCUCAAGCCACUGAUCAAGGUCAUAGAAAGUAAAGAUUAUGGCCAACAGUUAGAAAUCGUAUGUCUGAUUGACCUGGGCUGCUUCCGAGAAAUUGAUGAGCUAAUAAAAAAGGAAACCAAAGGCAAAGGUUCUUUGGAAGUACUCAAUCUGAAAGAUUUGAAGAAGGAGAUGAGAAAUUUGAAUGACACCCAUCAGUCUCUUCACCUCUAAAACACUAAAGUGUUUUCGUUUCCAACAGCACUGUUUCAUGUCUGUGGUCUGCCAAAUACUUGCUCAAACUAUUUGACAUUUUCUAUCUUUGUGUUAACAGUGGACACAGCAAGGCUUUCCUACAUAAGUAUAAUAAUGUGGGAAUGAUUUGGUUUUAAUUAUAAACUGGGGUCUAAAUCCUAAAGCAAAAUUGAAACUCCAGGAUGCAAAAUCCAGAGUGGCAUUUUGCUACUCUGUCUCAUGCCUUGAUAGCUUUCCAAAAUGAAAGUUACUUGAGGCAGCUCUUGUGGGUGAAAAGUUUUUUGUACAGUAGAGUAAGAUUAUUAGGGGUAUGUCUAUACGACAAAAGGGGGGUCUUUCCUAAAAAAGAAAACAUGAUGCUUCAUUUCUACUUAAUGGAACUUGUGUUCUGAGGGUCAUUAUGGUAUCGUAAUAUAAAGCUUGGAUGAUGUUCCUGAUUAUCUGAGAAACAGAUAUAGAAAAAUUGUGUCGGACUUAAAUAAUUUUCGUUGAACAUGCUGCCAUAACUUAGAUUAUUCUUGGUUAAAAAAUAAAAGUCACUUAUUUCUAAUUCUUAAAGUUUAUAAUAUAUAUUAAUAUAGCUAAAAUUGUAUGUAAUCAAUAAAACCACUCUUAUGUUUAUUAAACUAUGGCUUGUGUUUCUAGAC',\n",
       "        'MAAAETQSLREQPEMEDANSEKSINEENGEVSEDQSQNKHSRHKKKKHKHRSKHKKHKHSSEEDKDKKHKHKHKHKKHKRKEIIDASDKEGMSPAKRTKLDDLALLEDLEKQRALIKAELDNELMEGKVQSGMGLILQGYESGSEEEGEIHEKARNGNRSSTRSSSTKGKLELVDNKITTKKRSKSRSKERTRHRSDKKKSKGGIEIVKEKTTRSKSKERKKSKSPSKRSKSQDQARKSKSPTLRRRSQEKIGKARSPTDDKVKIEDKSKSKDRKKSPIINESRSRDRGKKSRSPVDLRGKSKDRRSRSKERKSKRSETDKEKKPIKSPSKDASSGKENRSPSRRPGRSPKRRSLSPKPRDKSRRSRSPLLNDRRSKQSKSPSRTLSPGRRAKSRSLERKRREPERRRLSSPRTRPRDDILSRRERSKDASPINRWSPTRRRSRSPIRRRSRSPLRRSRSPRRRSRSPRRRDRGRRSRSRLRRRSRSRGGRRRRSRSKVKEDKFKGSLSEGMKVEQESSSDDNLEDFDVEEEDEEALIEQRRIQRQAIVQKYKYLAEDSNMSVPSEPSSPQSSTRTRSPSPDDILERVAADVKEYERENVDTFEASVKAKHNLMTVEQNNGSSQKKLLAPDMFTESDDMFAAYFDSARLRAAGIGKDFKENPNLRDNWTDAEGYYRVNIGEVLDKRYNVYGYTGQGVFSNVVRARDNARANQEVAVKIIRNNELMQKTGLKELEFLKKLNDADPDDKFHCLRLFRHFYHKQHLCLVFEPLSMNLREVLKKYGKDVGLHIKAVRSYSQQLFLALKLLKRCNILHADIKPDNILVNESKTILKLCDFGSASHVADNDITPYLVSRFYRAPEIIIGKSYDYGIDMWSVGCTLYELYTGKILFPGKTNNHMLKLAMDLKGKMPNKMIRKGVFKDQHFDQNLNFMYIEVDKVTEREKVTVMSTINPTKDLLADLIGCQRLPEDQRKKVHQLKDLLDQILMLDPAKRISINQALQHAFIQEKI',\n",
       "        ...,\n",
       "        'MAKVSVLNVAVLENPSPFHSPFRFEISFECSEALADDLEWKIIYVGSAESEEFDQILDSVLVGPVPAGRHMFVFQADAPNPSLIPETDAVGVTVVLITCTYHGQEFIRVGYYVNNEYLNPELRENPPMKPDFSQLQRNILASNPRVTRFHINWDNNMDRLEAIETQDPSLGCGLPLNCTPIKGLGLPGCIPGLLPENSMDCI',\n",
       "        'Q9NVP2', 'Undirected']], dtype=object)"
      ]
     },
     "execution_count": 5,
     "metadata": {},
     "output_type": "execute_result"
    },
    {
     "ename": "",
     "evalue": "",
     "output_type": "error",
     "traceback": [
      "\u001b[1;31m在当前单元格或上一个单元格中执行代码时 Kernel 崩溃。\n",
      "\u001b[1;31m请查看单元格中的代码，以确定故障的可能原因。\n",
      "\u001b[1;31m单击<a href='https://aka.ms/vscodeJupyterKernelCrash'>此处</a>了解详细信息。\n",
      "\u001b[1;31m有关更多详细信息，请查看 Jupyter <a href='command:jupyter.viewOutput'>log</a>。"
     ]
    }
   ],
   "source": [
    "two_d_data"
   ]
  },
  {
   "cell_type": "code",
   "execution_count": 1,
   "metadata": {},
   "outputs": [],
   "source": [
    "import os\n",
    "os.mkdir('./data/rna_Seqs')"
   ]
  },
  {
   "cell_type": "code",
   "execution_count": null,
   "metadata": {},
   "outputs": [],
   "source": []
  },
  {
   "cell_type": "code",
   "execution_count": null,
   "metadata": {},
   "outputs": [
    {
     "ename": "KeyError",
     "evalue": "'name'",
     "output_type": "error",
     "traceback": [
      "\u001b[1;31m---------------------------------------------------------------------------\u001b[0m",
      "\u001b[1;31mKeyError\u001b[0m                                  Traceback (most recent call last)",
      "File \u001b[1;32md:\\anaconda\\envs\\pytorch\\Lib\\site-packages\\pandas\\core\\indexes\\base.py:3805\u001b[0m, in \u001b[0;36mIndex.get_loc\u001b[1;34m(self, key)\u001b[0m\n\u001b[0;32m   3804\u001b[0m \u001b[38;5;28;01mtry\u001b[39;00m:\n\u001b[1;32m-> 3805\u001b[0m     \u001b[38;5;28;01mreturn\u001b[39;00m \u001b[38;5;28mself\u001b[39m\u001b[38;5;241m.\u001b[39m_engine\u001b[38;5;241m.\u001b[39mget_loc(casted_key)\n\u001b[0;32m   3806\u001b[0m \u001b[38;5;28;01mexcept\u001b[39;00m \u001b[38;5;167;01mKeyError\u001b[39;00m \u001b[38;5;28;01mas\u001b[39;00m err:\n",
      "File \u001b[1;32mindex.pyx:167\u001b[0m, in \u001b[0;36mpandas._libs.index.IndexEngine.get_loc\u001b[1;34m()\u001b[0m\n",
      "File \u001b[1;32mindex.pyx:196\u001b[0m, in \u001b[0;36mpandas._libs.index.IndexEngine.get_loc\u001b[1;34m()\u001b[0m\n",
      "File \u001b[1;32mpandas\\\\_libs\\\\hashtable_class_helper.pxi:7081\u001b[0m, in \u001b[0;36mpandas._libs.hashtable.PyObjectHashTable.get_item\u001b[1;34m()\u001b[0m\n",
      "File \u001b[1;32mpandas\\\\_libs\\\\hashtable_class_helper.pxi:7089\u001b[0m, in \u001b[0;36mpandas._libs.hashtable.PyObjectHashTable.get_item\u001b[1;34m()\u001b[0m\n",
      "\u001b[1;31mKeyError\u001b[0m: 'pairs'",
      "\nThe above exception was the direct cause of the following exception:\n",
      "\u001b[1;31mKeyError\u001b[0m                                  Traceback (most recent call last)",
      "Cell \u001b[1;32mIn[4], line 27\u001b[0m, in \u001b[0;36mcsv_to_bpseq\u001b[1;34m(csv_path, output_dir)\u001b[0m\n\u001b[0;32m     26\u001b[0m seq \u001b[38;5;241m=\u001b[39m row[\u001b[38;5;124m'\u001b[39m\u001b[38;5;124mRNA_aa_code\u001b[39m\u001b[38;5;124m'\u001b[39m]\u001b[38;5;241m.\u001b[39mupper()\n\u001b[1;32m---> 27\u001b[0m pairs \u001b[38;5;241m=\u001b[39m ast\u001b[38;5;241m.\u001b[39mliteral_eval(row[\u001b[38;5;124m'\u001b[39m\u001b[38;5;124mpairs\u001b[39m\u001b[38;5;124m'\u001b[39m])  \u001b[38;5;66;03m# 安全解析列表\u001b[39;00m\n\u001b[0;32m     29\u001b[0m \u001b[38;5;66;03m# 生成配对字典（1-based索引）\u001b[39;00m\n",
      "File \u001b[1;32md:\\anaconda\\envs\\pytorch\\Lib\\site-packages\\pandas\\core\\series.py:1121\u001b[0m, in \u001b[0;36mSeries.__getitem__\u001b[1;34m(self, key)\u001b[0m\n\u001b[0;32m   1120\u001b[0m \u001b[38;5;28;01melif\u001b[39;00m key_is_scalar:\n\u001b[1;32m-> 1121\u001b[0m     \u001b[38;5;28;01mreturn\u001b[39;00m \u001b[38;5;28mself\u001b[39m\u001b[38;5;241m.\u001b[39m_get_value(key)\n\u001b[0;32m   1123\u001b[0m \u001b[38;5;66;03m# Convert generator to list before going through hashable part\u001b[39;00m\n\u001b[0;32m   1124\u001b[0m \u001b[38;5;66;03m# (We will iterate through the generator there to check for slices)\u001b[39;00m\n",
      "File \u001b[1;32md:\\anaconda\\envs\\pytorch\\Lib\\site-packages\\pandas\\core\\series.py:1237\u001b[0m, in \u001b[0;36mSeries._get_value\u001b[1;34m(self, label, takeable)\u001b[0m\n\u001b[0;32m   1236\u001b[0m \u001b[38;5;66;03m# Similar to Index.get_value, but we do not fall back to positional\u001b[39;00m\n\u001b[1;32m-> 1237\u001b[0m loc \u001b[38;5;241m=\u001b[39m \u001b[38;5;28mself\u001b[39m\u001b[38;5;241m.\u001b[39mindex\u001b[38;5;241m.\u001b[39mget_loc(label)\n\u001b[0;32m   1239\u001b[0m \u001b[38;5;28;01mif\u001b[39;00m is_integer(loc):\n",
      "File \u001b[1;32md:\\anaconda\\envs\\pytorch\\Lib\\site-packages\\pandas\\core\\indexes\\base.py:3812\u001b[0m, in \u001b[0;36mIndex.get_loc\u001b[1;34m(self, key)\u001b[0m\n\u001b[0;32m   3811\u001b[0m         \u001b[38;5;28;01mraise\u001b[39;00m InvalidIndexError(key)\n\u001b[1;32m-> 3812\u001b[0m     \u001b[38;5;28;01mraise\u001b[39;00m \u001b[38;5;167;01mKeyError\u001b[39;00m(key) \u001b[38;5;28;01mfrom\u001b[39;00m \u001b[38;5;21;01merr\u001b[39;00m\n\u001b[0;32m   3813\u001b[0m \u001b[38;5;28;01mexcept\u001b[39;00m \u001b[38;5;167;01mTypeError\u001b[39;00m:\n\u001b[0;32m   3814\u001b[0m     \u001b[38;5;66;03m# If we have a listlike key, _check_indexing_error will raise\u001b[39;00m\n\u001b[0;32m   3815\u001b[0m     \u001b[38;5;66;03m#  InvalidIndexError. Otherwise we fall through and re-raise\u001b[39;00m\n\u001b[0;32m   3816\u001b[0m     \u001b[38;5;66;03m#  the TypeError.\u001b[39;00m\n",
      "\u001b[1;31mKeyError\u001b[0m: 'pairs'",
      "\nDuring handling of the above exception, another exception occurred:\n",
      "\u001b[1;31mKeyError\u001b[0m                                  Traceback (most recent call last)",
      "File \u001b[1;32md:\\anaconda\\envs\\pytorch\\Lib\\site-packages\\pandas\\core\\indexes\\base.py:3805\u001b[0m, in \u001b[0;36mIndex.get_loc\u001b[1;34m(self, key)\u001b[0m\n\u001b[0;32m   3804\u001b[0m \u001b[38;5;28;01mtry\u001b[39;00m:\n\u001b[1;32m-> 3805\u001b[0m     \u001b[38;5;28;01mreturn\u001b[39;00m \u001b[38;5;28mself\u001b[39m\u001b[38;5;241m.\u001b[39m_engine\u001b[38;5;241m.\u001b[39mget_loc(casted_key)\n\u001b[0;32m   3806\u001b[0m \u001b[38;5;28;01mexcept\u001b[39;00m \u001b[38;5;167;01mKeyError\u001b[39;00m \u001b[38;5;28;01mas\u001b[39;00m err:\n",
      "File \u001b[1;32mindex.pyx:167\u001b[0m, in \u001b[0;36mpandas._libs.index.IndexEngine.get_loc\u001b[1;34m()\u001b[0m\n",
      "File \u001b[1;32mindex.pyx:196\u001b[0m, in \u001b[0;36mpandas._libs.index.IndexEngine.get_loc\u001b[1;34m()\u001b[0m\n",
      "File \u001b[1;32mpandas\\\\_libs\\\\hashtable_class_helper.pxi:7081\u001b[0m, in \u001b[0;36mpandas._libs.hashtable.PyObjectHashTable.get_item\u001b[1;34m()\u001b[0m\n",
      "File \u001b[1;32mpandas\\\\_libs\\\\hashtable_class_helper.pxi:7089\u001b[0m, in \u001b[0;36mpandas._libs.hashtable.PyObjectHashTable.get_item\u001b[1;34m()\u001b[0m\n",
      "\u001b[1;31mKeyError\u001b[0m: 'name'",
      "\nThe above exception was the direct cause of the following exception:\n",
      "\u001b[1;31mKeyError\u001b[0m                                  Traceback (most recent call last)",
      "Cell \u001b[1;32mIn[4], line 53\u001b[0m\n\u001b[0;32m     51\u001b[0m \u001b[38;5;66;03m# 使用示例\u001b[39;00m\n\u001b[0;32m     52\u001b[0m \u001b[38;5;28;01mif\u001b[39;00m \u001b[38;5;18m__name__\u001b[39m \u001b[38;5;241m==\u001b[39m \u001b[38;5;124m\"\u001b[39m\u001b[38;5;124m__main__\u001b[39m\u001b[38;5;124m\"\u001b[39m:\n\u001b[1;32m---> 53\u001b[0m     csv_to_bpseq(\n\u001b[0;32m     54\u001b[0m         csv_path\u001b[38;5;241m=\u001b[39m\u001b[38;5;124m\"\u001b[39m\u001b[38;5;124m./data/rna_seqs.csv\u001b[39m\u001b[38;5;124m\"\u001b[39m,\n\u001b[0;32m     55\u001b[0m         output_dir\u001b[38;5;241m=\u001b[39m\u001b[38;5;124m\"\u001b[39m\u001b[38;5;124m./data/rna_Seqs\u001b[39m\u001b[38;5;124m\"\u001b[39m\n\u001b[0;32m     56\u001b[0m     )\n",
      "Cell \u001b[1;32mIn[4], line 49\u001b[0m, in \u001b[0;36mcsv_to_bpseq\u001b[1;34m(csv_path, output_dir)\u001b[0m\n\u001b[0;32m     46\u001b[0m         f\u001b[38;5;241m.\u001b[39mwrite(\u001b[38;5;124m'\u001b[39m\u001b[38;5;130;01m\\n\u001b[39;00m\u001b[38;5;124m'\u001b[39m\u001b[38;5;241m.\u001b[39mjoin(bpseq_lines))\n\u001b[0;32m     48\u001b[0m \u001b[38;5;28;01mexcept\u001b[39;00m \u001b[38;5;167;01mException\u001b[39;00m \u001b[38;5;28;01mas\u001b[39;00m e:\n\u001b[1;32m---> 49\u001b[0m     \u001b[38;5;28mprint\u001b[39m(\u001b[38;5;124mf\u001b[39m\u001b[38;5;124m\"\u001b[39m\u001b[38;5;124m处理 \u001b[39m\u001b[38;5;132;01m{\u001b[39;00mrow[\u001b[38;5;124m'\u001b[39m\u001b[38;5;124mname\u001b[39m\u001b[38;5;124m'\u001b[39m]\u001b[38;5;132;01m}\u001b[39;00m\u001b[38;5;124m 时出错: \u001b[39m\u001b[38;5;132;01m{\u001b[39;00m\u001b[38;5;28mstr\u001b[39m(e)\u001b[38;5;132;01m}\u001b[39;00m\u001b[38;5;124m\"\u001b[39m)\n",
      "File \u001b[1;32md:\\anaconda\\envs\\pytorch\\Lib\\site-packages\\pandas\\core\\series.py:1121\u001b[0m, in \u001b[0;36mSeries.__getitem__\u001b[1;34m(self, key)\u001b[0m\n\u001b[0;32m   1118\u001b[0m     \u001b[38;5;28;01mreturn\u001b[39;00m \u001b[38;5;28mself\u001b[39m\u001b[38;5;241m.\u001b[39m_values[key]\n\u001b[0;32m   1120\u001b[0m \u001b[38;5;28;01melif\u001b[39;00m key_is_scalar:\n\u001b[1;32m-> 1121\u001b[0m     \u001b[38;5;28;01mreturn\u001b[39;00m \u001b[38;5;28mself\u001b[39m\u001b[38;5;241m.\u001b[39m_get_value(key)\n\u001b[0;32m   1123\u001b[0m \u001b[38;5;66;03m# Convert generator to list before going through hashable part\u001b[39;00m\n\u001b[0;32m   1124\u001b[0m \u001b[38;5;66;03m# (We will iterate through the generator there to check for slices)\u001b[39;00m\n\u001b[0;32m   1125\u001b[0m \u001b[38;5;28;01mif\u001b[39;00m is_iterator(key):\n",
      "File \u001b[1;32md:\\anaconda\\envs\\pytorch\\Lib\\site-packages\\pandas\\core\\series.py:1237\u001b[0m, in \u001b[0;36mSeries._get_value\u001b[1;34m(self, label, takeable)\u001b[0m\n\u001b[0;32m   1234\u001b[0m     \u001b[38;5;28;01mreturn\u001b[39;00m \u001b[38;5;28mself\u001b[39m\u001b[38;5;241m.\u001b[39m_values[label]\n\u001b[0;32m   1236\u001b[0m \u001b[38;5;66;03m# Similar to Index.get_value, but we do not fall back to positional\u001b[39;00m\n\u001b[1;32m-> 1237\u001b[0m loc \u001b[38;5;241m=\u001b[39m \u001b[38;5;28mself\u001b[39m\u001b[38;5;241m.\u001b[39mindex\u001b[38;5;241m.\u001b[39mget_loc(label)\n\u001b[0;32m   1239\u001b[0m \u001b[38;5;28;01mif\u001b[39;00m is_integer(loc):\n\u001b[0;32m   1240\u001b[0m     \u001b[38;5;28;01mreturn\u001b[39;00m \u001b[38;5;28mself\u001b[39m\u001b[38;5;241m.\u001b[39m_values[loc]\n",
      "File \u001b[1;32md:\\anaconda\\envs\\pytorch\\Lib\\site-packages\\pandas\\core\\indexes\\base.py:3812\u001b[0m, in \u001b[0;36mIndex.get_loc\u001b[1;34m(self, key)\u001b[0m\n\u001b[0;32m   3807\u001b[0m     \u001b[38;5;28;01mif\u001b[39;00m \u001b[38;5;28misinstance\u001b[39m(casted_key, \u001b[38;5;28mslice\u001b[39m) \u001b[38;5;129;01mor\u001b[39;00m (\n\u001b[0;32m   3808\u001b[0m         \u001b[38;5;28misinstance\u001b[39m(casted_key, abc\u001b[38;5;241m.\u001b[39mIterable)\n\u001b[0;32m   3809\u001b[0m         \u001b[38;5;129;01mand\u001b[39;00m \u001b[38;5;28many\u001b[39m(\u001b[38;5;28misinstance\u001b[39m(x, \u001b[38;5;28mslice\u001b[39m) \u001b[38;5;28;01mfor\u001b[39;00m x \u001b[38;5;129;01min\u001b[39;00m casted_key)\n\u001b[0;32m   3810\u001b[0m     ):\n\u001b[0;32m   3811\u001b[0m         \u001b[38;5;28;01mraise\u001b[39;00m InvalidIndexError(key)\n\u001b[1;32m-> 3812\u001b[0m     \u001b[38;5;28;01mraise\u001b[39;00m \u001b[38;5;167;01mKeyError\u001b[39;00m(key) \u001b[38;5;28;01mfrom\u001b[39;00m \u001b[38;5;21;01merr\u001b[39;00m\n\u001b[0;32m   3813\u001b[0m \u001b[38;5;28;01mexcept\u001b[39;00m \u001b[38;5;167;01mTypeError\u001b[39;00m:\n\u001b[0;32m   3814\u001b[0m     \u001b[38;5;66;03m# If we have a listlike key, _check_indexing_error will raise\u001b[39;00m\n\u001b[0;32m   3815\u001b[0m     \u001b[38;5;66;03m#  InvalidIndexError. Otherwise we fall through and re-raise\u001b[39;00m\n\u001b[0;32m   3816\u001b[0m     \u001b[38;5;66;03m#  the TypeError.\u001b[39;00m\n\u001b[0;32m   3817\u001b[0m     \u001b[38;5;28mself\u001b[39m\u001b[38;5;241m.\u001b[39m_check_indexing_error(key)\n",
      "\u001b[1;31mKeyError\u001b[0m: 'name'"
     ]
    }
   ],
   "source": []
  }
 ],
 "metadata": {
  "kernelspec": {
   "display_name": "pytorch",
   "language": "python",
   "name": "python3"
  },
  "language_info": {
   "codemirror_mode": {
    "name": "ipython",
    "version": 3
   },
   "file_extension": ".py",
   "mimetype": "text/x-python",
   "name": "python",
   "nbconvert_exporter": "python",
   "pygments_lexer": "ipython3",
   "version": "3.12.7"
  }
 },
 "nbformat": 4,
 "nbformat_minor": 2
}
